{
 "metadata": {
  "name": "",
  "signature": "sha256:a3a21687de00f96fa66e076458ce6eea4dae6d083f814860ecb4185c2bd64aa1"
 },
 "nbformat": 3,
 "nbformat_minor": 0,
 "worksheets": [
  {
   "cells": [
    {
     "cell_type": "raw",
     "metadata": {},
     "source": [
      "Hi!  Please click inside the textbox directly below this and hit Shift+Enter to display this notebook with the appropriate formatting.  Thanks!"
     ]
    },
    {
     "cell_type": "code",
     "collapsed": false,
     "input": [
      "from IPython.core.display import HTML\n",
      "def css_styling():\n",
      "    styles = open(\"./styles/custom.css\", \"r\").read()\n",
      "    return HTML(styles)\n",
      "css_styling()"
     ],
     "language": "python",
     "metadata": {},
     "outputs": [
      {
       "html": [
        "<link href='http://fonts.googleapis.com/css?family=Fenix' rel='stylesheet' type='text/css'>\n",
        "<link href='http://fonts.googleapis.com/css?family=Alegreya+Sans:100,300,400,500,700,800,900,100italic,300italic,400italic,500italic,700italic,800italic,900italic' rel='stylesheet' type='text/css'>\n",
        "<link href='http://fonts.googleapis.com/css?family=Source+Code+Pro:300,400' rel='stylesheet' type='text/css'>\n",
        "<style>\n",
        "    @font-face {\n",
        "        font-family: \"Computer Modern\";\n",
        "        src: url('http://mirrors.ctan.org/fonts/cm-unicode/fonts/otf/cmunss.otf');\n",
        "    }\n",
        "    div.cell{\n",
        "        width:800px;\n",
        "        margin-left:16% !important;\n",
        "        margin-right:auto;\n",
        "    }\n",
        "    h1 {\n",
        "        font-family: 'Alegreya Sans', sans-serif;\n",
        "    }\n",
        "    h2 {\n",
        "        font-family: 'Fenix', serif;\n",
        "    }\n",
        "    h3{\n",
        "\t\tfont-family: 'Fenix', serif;\n",
        "        margin-top:12px;\n",
        "        margin-bottom: 3px;\n",
        "       }\n",
        "\th4{\n",
        "\t\tfont-family: 'Fenix', serif;\n",
        "       }\n",
        "    h5 {\n",
        "        font-family: 'Alegreya Sans', sans-serif;\n",
        "    }\t   \n",
        "    div.text_cell_render{\n",
        "        font-family: 'Alegreya Sans',Computer Modern, \"Helvetica Neue\", Arial, Helvetica, Geneva, sans-serif;\n",
        "        line-height: 135%;\n",
        "        font-size: 120%;\n",
        "        width:600px;\n",
        "        margin-left:auto;\n",
        "        margin-right:auto;\n",
        "    }\n",
        "    .CodeMirror{\n",
        "            font-family: \"Source Code Pro\";\n",
        "\t\t\tfont-size: 90%;\n",
        "    }\n",
        "/*    .prompt{\n",
        "        display: None;\n",
        "    }*/\n",
        "    .text_cell_render h1 {\n",
        "        font-weight: 200;\n",
        "        font-size: 50pt;\n",
        "\t\tline-height: 100%;\n",
        "        color:#CD2305;\n",
        "        margin-bottom: 0.5em;\n",
        "        margin-top: 0.5em;\n",
        "        display: block;\n",
        "    }\t\n",
        "    .text_cell_render h5 {\n",
        "        font-weight: 300;\n",
        "        font-size: 16pt;\n",
        "        color: #CD2305;\n",
        "        font-style: italic;\n",
        "        margin-bottom: .5em;\n",
        "        margin-top: 0.5em;\n",
        "        display: block;\n",
        "    }\n",
        "    \n",
        "    .warning{\n",
        "        color: rgb( 240, 20, 20 )\n",
        "    }  \n",
        "</style>\n",
        "<script>\n",
        "    MathJax.Hub.Config({\n",
        "                        TeX: {\n",
        "                           extensions: [\"AMSmath.js\"]\n",
        "                           },\n",
        "                tex2jax: {\n",
        "                    inlineMath: [ ['$','$'], [\"\\\\(\",\"\\\\)\"] ],\n",
        "                    displayMath: [ ['$$','$$'], [\"\\\\[\",\"\\\\]\"] ]\n",
        "                },\n",
        "                displayAlign: 'center', // Change this to 'center' to center equations.\n",
        "                \"HTML-CSS\": {\n",
        "                    styles: {'.MathJax_Display': {\"margin\": 4}}\n",
        "                }\n",
        "        });\n",
        "</script>\n"
       ],
       "metadata": {},
       "output_type": "pyout",
       "prompt_number": 2,
       "text": [
        "<IPython.core.display.HTML at 0x7f7204544110>"
       ]
      }
     ],
     "prompt_number": 2
    },
    {
     "cell_type": "markdown",
     "metadata": {},
     "source": [
      "#Welcome to JITcode"
     ]
    },
    {
     "cell_type": "markdown",
     "metadata": {},
     "source": [
      "Hi!  Welcome to JITcode!  We're hoping to change the way that engineers learn how to use computers; to make it more interactive, more fun and much, much more practical.  (And hopefully easier, too!)"
     ]
    },
    {
     "cell_type": "markdown",
     "metadata": {},
     "source": [
      "If you're reading this, you're hopefully logged in to GWU's Wakari server and you're ready to get started.  (Did you change your password from the default yet?  Seriously, get on that)"
     ]
    },
    {
     "cell_type": "markdown",
     "metadata": {},
     "source": [
      "This environment is called an IPython Notebook.  The Notebooks are made up of a bunch of \"cells.\"  The cells can be for **code**, like the one at the top of this notebook that loaded in our formatting style sheet, or they can be for **markdown** which is what you're reading right now.  \n",
      "\n",
      "In fact, why don't you try double-clicking here and you'll be able to edit the text, if you like.  Then hit Shift+Enter to \"run\" this cell and it will render back into normal font.  "
     ]
    },
    {
     "cell_type": "markdown",
     "metadata": {},
     "source": [
      "If you look at the menu at the top of the notebook, you should see a drop-down box that will say \"Code\", or possibly \"Markdown\".  When you create a new cell, you can select either of these and that will determine what the cell does.  \n",
      "\n",
      "As you progress through the lessons, we suggest that you leave yourself notes, thoughts, questions in Markdown cells.  You can intersperse these with the code cells and provide you with some reference if you're trying to remember what you were doing before you took a break.  "
     ]
    },
    {
     "cell_type": "markdown",
     "metadata": {},
     "source": [
      "#Lessons\n",
      "\n",
      "The following links will take you to web rendered versions of IPython notebooks that we've created -- you won't be able to interact with the rendered versions in the same way as you can with this notebook, but you can (and should) create your own blank notebook and then follow along with the lessons.  \n",
      "\n",
      "*  [Quick Python Intro](http://nbviewer.ipython.org/urls/github.com/barbagroup/JITcode-MechE/blob/master/module00_Introduction_to_Python/00_Lesson00_Quick_Python_Intro.ipynb)\n",
      "*  [Playing with data](http://nbviewer.ipython.org/urls/github.com/barbagroup/JITcode-MechE/blob/master/module00_Introduction_to_Python/01_Lesson01_Playing_with_data.ipynb)\n",
      "*  [Units and decisions](http://nbviewer.ipython.org/urls/github.com/barbagroup/JITcode-MechE/blob/master/module00_Introduction_to_Python/02_Lesson02_Units_and_Decisions.ipynb)"
     ]
    },
    {
     "cell_type": "markdown",
     "metadata": {},
     "source": [
      "##Data files\n",
      "\n",
      "In several lessons, we import data files so we can analyze them using Python.  All of these data files have been copied to your personal account, so you should be able to load them using the exact same commands you see in the notebooks.  "
     ]
    },
    {
     "cell_type": "markdown",
     "metadata": {},
     "source": [
      "##Questions?  Comments?\n",
      "\n",
      "Feel free to email [Gil Forsyth](mailto:gforsyth@gwu.edu) with any questions, support requests or comments.  "
     ]
    }
   ],
   "metadata": {}
  }
 ]
}